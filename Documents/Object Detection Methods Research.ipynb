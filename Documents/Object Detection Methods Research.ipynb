{
 "cells": [
  {
   "cell_type": "markdown",
   "id": "47f5ba01",
   "metadata": {},
   "source": [
    "# R-CNN\n",
    "\n",
    "- https://towardsdatascience.com/fast-r-cnn-for-object-detection-a-technical-summary-a0ff94faa022\n",
    "- https://blog.paperspace.com/faster-r-cnn-explained-object-detection/\n",
    "- https://towardsdatascience.com/r-cnn-fast-r-cnn-faster-r-cnn-yolo-object-detection-algorithms-36d53571365e\n",
    "\n",
    "R-CNN works by selecting 2000 regions from the image by recursively combining similar regions into larger ones. This allows the algorithm to work with a set\n",
    "number of regions as opposed to an almost infinite amount of region choices.\n",
    "\n",
    "The CNN attempts to extract features from the region proposols, and those features are fed into an output dense layer. This feeds into an SVM to classify the presence of objects within those regions. Additionally, it attempts to predict offset values to improve the precision of the bounding box.\n",
    "\n",
    "Regular R-CNN is incredibly slow and could not run in real time. So Fast R-CNN was made by changing the algorithm to only do the convolution operation once per image, and removing the need to feed 2000 region proposols for every image.\n",
    "\n",
    "There is also Faster R-CNN, which attempts to speed up the region proposal creation process by letting the neural network learn the regions, instead of the time consuming selection process."
   ]
  },
  {
   "cell_type": "markdown",
   "id": "562f1978",
   "metadata": {},
   "source": [
    "---"
   ]
  },
  {
   "cell_type": "markdown",
   "id": "ebafe552",
   "metadata": {},
   "source": [
    "# YOLOv3\n",
    "\n",
    "- https://pjreddie.com/darknet/yolo/\n",
    "- https://pjreddie.com/media/files/papers/YOLOv3.pdf\n",
    "- https://viso.ai/deep-learning/yolov3-overview/\n",
    "\n",
    "YOLO, or you only look once, is a real-time object detection system.\n",
    "Runs on the COCO JSON image label format.\n",
    "\n",
    "YOLO works by dividing images into smaller regions and predicting bounding\n",
    "boxes and confidence levels for each region. It only requires a single network evaluation to make predictions, unlike the thousands required for R-CNN. And therefore, it is much faster.\n",
    "\n",
    "They upgraded the convolutional network from YOLOv2, from 19 layers to 53. And thusly, they call it **Darknet-53**.\n",
    "\n",
    "It may be a good idea to try YOLOv2 first, as 19 convolutional layers is more lightweight than 53. But it seems YOLOv3 is a notable improvement over its predecessor.\n",
    "\n",
    "One of the downfalls of earlier YOLO versions was the inability to detect small sized objects in an image. YOLOv3 tries to amend this by downscaling images and building features on multiple resolutions of the input images."
   ]
  },
  {
   "cell_type": "markdown",
   "id": "4986a572",
   "metadata": {},
   "source": [
    "---"
   ]
  },
  {
   "cell_type": "markdown",
   "id": "63661e0a",
   "metadata": {},
   "source": [
    "# YOLOv7\n",
    "\n",
    "- https://viso.ai/deep-learning/yolov7-guide/\n",
    "- https://arxiv.org/pdf/2207.02696.pdf\n",
    "- https://github.com/WongKinYiu/yolov7\n",
    "\n",
    "Performs very well on real-time object detection tasks. It seems it too follows the trend of being remarkably efficient, while sacrificing a small amount of accuracy.\n",
    "\n",
    "Seems some of the name confusion comes from the fact that YOLO versions 5 and 6 were unofficial, and made on different architectures than DarkNet. So this would be the official YOLO v5 if there was such a thing."
   ]
  },
  {
   "cell_type": "markdown",
   "id": "d7cfd305",
   "metadata": {},
   "source": [
    "---"
   ]
  },
  {
   "cell_type": "markdown",
   "id": "4477c8bc",
   "metadata": {},
   "source": [
    "# Performance Metrics\n",
    "\n",
    "- https://jonathan-hui.medium.com/map-mean-average-precision-for-object-detection-45c121a31173\n",
    "\n",
    "### IOU\n",
    "\n",
    "- Intersection over Union, a way of describing how close a bounding box is to the ground truth bounding box.\n",
    "\n",
    "### mAP\n",
    "\n",
    "- Mean Average Precision, measurement of the area under the Precision/Recall Graph."
   ]
  }
 ],
 "metadata": {
  "kernelspec": {
   "display_name": "Python 3 (ipykernel)",
   "language": "python",
   "name": "python3"
  },
  "language_info": {
   "codemirror_mode": {
    "name": "ipython",
    "version": 3
   },
   "file_extension": ".py",
   "mimetype": "text/x-python",
   "name": "python",
   "nbconvert_exporter": "python",
   "pygments_lexer": "ipython3",
   "version": "3.9.13"
  }
 },
 "nbformat": 4,
 "nbformat_minor": 5
}
