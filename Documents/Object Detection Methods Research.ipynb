{
 "cells": [
  {
   "cell_type": "markdown",
   "id": "47f5ba01",
   "metadata": {},
   "source": [
    "# R-CNN\n",
    "\n",
    "- https://towardsdatascience.com/fast-r-cnn-for-object-detection-a-technical-summary-a0ff94faa022\n",
    "- https://blog.paperspace.com/faster-r-cnn-explained-object-detection/\n",
    "- https://towardsdatascience.com/r-cnn-fast-r-cnn-faster-r-cnn-yolo-object-detection-algorithms-36d53571365e"
   ]
  },
  {
   "cell_type": "markdown",
   "id": "562f1978",
   "metadata": {},
   "source": [
    "---"
   ]
  },
  {
   "cell_type": "markdown",
   "id": "ebafe552",
   "metadata": {},
   "source": [
    "# YOLOv3\n",
    "\n",
    "- https://pjreddie.com/darknet/yolo/\n",
    "- https://pjreddie.com/media/files/papers/YOLOv3.pdf\n",
    "- https://viso.ai/deep-learning/yolov3-overview/"
   ]
  },
  {
   "cell_type": "markdown",
   "id": "4986a572",
   "metadata": {},
   "source": [
    "---"
   ]
  },
  {
   "cell_type": "markdown",
   "id": "63661e0a",
   "metadata": {},
   "source": [
    "# YOLOv7\n",
    "\n",
    "- https://viso.ai/deep-learning/yolov7-guide/\n",
    "- https://github.com/WongKinYiu/yolov7"
   ]
  }
 ],
 "metadata": {
  "kernelspec": {
   "display_name": "Python 3 (ipykernel)",
   "language": "python",
   "name": "python3"
  },
  "language_info": {
   "codemirror_mode": {
    "name": "ipython",
    "version": 3
   },
   "file_extension": ".py",
   "mimetype": "text/x-python",
   "name": "python",
   "nbconvert_exporter": "python",
   "pygments_lexer": "ipython3",
   "version": "3.9.13"
  }
 },
 "nbformat": 4,
 "nbformat_minor": 5
}
