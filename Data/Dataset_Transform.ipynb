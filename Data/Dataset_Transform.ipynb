{
 "cells": [
  {
   "cell_type": "markdown",
   "id": "f16ae6b0",
   "metadata": {},
   "source": [
    "# Dataset Transform\n",
    "\n",
    "This file will ask for a path to a directory which must contain:\n",
    "- A file called _annotations.csv containing labels in a specific format. This will be outlined later in code when it will be altered to fit the Google Cloud Api input format.\n",
    "- An amount of square jpg images of one set size. In my case 416x416 pixels."
   ]
  },
  {
   "cell_type": "markdown",
   "id": "4ced396d",
   "metadata": {},
   "source": [
    "---\n",
    "\n",
    "### _annotations.csv input syntax\n",
    "\n",
    "file_name, x1, y1, x2, y2, label\n",
    "\n",
    "Where the x and y values are stored as integers.\n",
    "\n",
    "### _annotations.csv output syntax\n",
    "\n",
    "gs_file_path, label, x1, y1,,, x2, y2,,\n",
    "\n",
    "Where the x and y values are now floating point numbers between 0 and 1. And ,, represents an empty column.\n",
    "\n",
    "The gs_file_path represents where the images are stored in google cloud. But this can be set to whatever the filepaths\n",
    "in the resulting csv file should be.\n",
    "\n",
    "---"
   ]
  },
  {
   "cell_type": "markdown",
   "id": "d47d04f7",
   "metadata": {},
   "source": [
    "The purpose of this program will be to reduce the amount of images, and format the csv file.\n",
    "The original dataset will be read only. And a new dataset will be created by creating a new csv file, and copying chosen images to a new destination.\n",
    "\n",
    "To use this program, tweak the parameters below, and run all cells.\n",
    "\n",
    "---"
   ]
  },
  {
   "cell_type": "code",
   "execution_count": 1,
   "id": "95ed95d8",
   "metadata": {},
   "outputs": [],
   "source": [
    "# import necessary libraries\n",
    "import pandas as pd\n",
    "import shutil"
   ]
  },
  {
   "cell_type": "markdown",
   "id": "91a35d6a",
   "metadata": {},
   "source": [
    "---\n",
    "\n",
    "## Parameters\n",
    "\n",
    "- src_path: Path to all source images and their _annotations.csv file.\n",
    "- dest_path: Path to where the partition of images and the new _annotations.csv file should be sent.\n",
    "- gs_filepath: Path to files in google cloud storage if using google cloud ML services.\n",
    "\n",
    "---\n",
    "\n",
    "- kept: The number of images to keep. (Note the resulting images may not be exactly the amount requested. There's a slight chance of collisions. For instance I requested 360 and resulted in 355.)\n",
    "- move_images: Set to False if you only want the resulting csv file, and don't want the images to be moved to the destination folder.\n",
    "- img_size: Size of square input images."
   ]
  },
  {
   "cell_type": "code",
   "execution_count": 2,
   "id": "6e126e7e",
   "metadata": {},
   "outputs": [],
   "source": [
    "src_path = 'train/'\n",
    "dest_path = 'train_aug/'\n",
    "gs_filepath = 'gs://capstone_benchmark/'"
   ]
  },
  {
   "cell_type": "code",
   "execution_count": null,
   "id": "c40a6e26",
   "metadata": {},
   "outputs": [],
   "source": [
    "kept = 360\n",
    "move_images = False\n",
    "img_size = 416."
   ]
  },
  {
   "cell_type": "code",
   "execution_count": 3,
   "id": "647af7b9",
   "metadata": {
    "scrolled": true
   },
   "outputs": [
    {
     "name": "stdout",
     "output_type": "stream",
     "text": [
      "<class 'pandas.core.frame.DataFrame'>\n",
      "RangeIndex: 43473 entries, 0 to 43472\n",
      "Data columns (total 6 columns):\n",
      " #   Column     Non-Null Count  Dtype \n",
      "---  ------     --------------  ----- \n",
      " 0   file_name  43473 non-null  object\n",
      " 1   x1         43473 non-null  int64 \n",
      " 2   y1         43473 non-null  int64 \n",
      " 3   x2         43473 non-null  int64 \n",
      " 4   y2         43473 non-null  int64 \n",
      " 5   label      43473 non-null  object\n",
      "dtypes: int64(4), object(2)\n",
      "memory usage: 2.0+ MB\n"
     ]
    }
   ],
   "source": [
    "# read in the annotations file and label columns\n",
    "labels = ['file_name', 'x1', 'y1', 'x2', 'y2', 'label']\n",
    "ann = pd.read_csv(src_path + '_annotations.csv', sep=',', header=None, names=labels)\n",
    "ann.info()"
   ]
  },
  {
   "cell_type": "code",
   "execution_count": 4,
   "id": "164965bc",
   "metadata": {},
   "outputs": [
    {
     "name": "stdout",
     "output_type": "stream",
     "text": [
      "['car']\n",
      "<class 'pandas.core.frame.DataFrame'>\n",
      "Int64Index: 32510 entries, 0 to 43472\n",
      "Data columns (total 6 columns):\n",
      " #   Column     Non-Null Count  Dtype \n",
      "---  ------     --------------  ----- \n",
      " 0   file_name  32510 non-null  object\n",
      " 1   x1         32510 non-null  int64 \n",
      " 2   y1         32510 non-null  int64 \n",
      " 3   x2         32510 non-null  int64 \n",
      " 4   y2         32510 non-null  int64 \n",
      " 5   label      32510 non-null  object\n",
      "dtypes: int64(4), object(2)\n",
      "memory usage: 1.7+ MB\n"
     ]
    }
   ],
   "source": [
    "# For now we will drop all rows that don't have the label 'car'\n",
    "ann = ann[ann['label'] == 'car']\n",
    "print(ann['label'].unique())\n",
    "ann.info()"
   ]
  },
  {
   "cell_type": "code",
   "execution_count": 7,
   "id": "46d0f874",
   "metadata": {
    "scrolled": true
   },
   "outputs": [
    {
     "name": "stdout",
     "output_type": "stream",
     "text": [
      "<class 'pandas.core.frame.DataFrame'>\n",
      "Int64Index: 2084 entries, 90 to 43354\n",
      "Data columns (total 6 columns):\n",
      " #   Column     Non-Null Count  Dtype \n",
      "---  ------     --------------  ----- \n",
      " 0   file_name  2084 non-null   object\n",
      " 1   x1         2084 non-null   int64 \n",
      " 2   y1         2084 non-null   int64 \n",
      " 3   x2         2084 non-null   int64 \n",
      " 4   y2         2084 non-null   int64 \n",
      " 5   label      2084 non-null   object\n",
      "dtypes: int64(4), object(2)\n",
      "memory usage: 114.0+ KB\n"
     ]
    }
   ],
   "source": [
    "# pick a random array of 'kept' images, these are the labels of the images we will\n",
    "# transfer to the destination directory\n",
    "img_subset = list(ann['file_name'].sample(n=kept, random_state=0))\n",
    "ann_subset = ann[ann['file_name'].isin(img_subset)]\n",
    "ann_subset.info()"
   ]
  },
  {
   "cell_type": "code",
   "execution_count": 10,
   "id": "d96f5ca0",
   "metadata": {},
   "outputs": [],
   "source": [
    "name_mapping = dict()\n",
    "count = 1\n",
    "for name in ann_subset['file_name'].unique():\n",
    "    name_mapping[name] = 'img' + str(count) + '.jpg'\n",
    "    count += 1"
   ]
  },
  {
   "cell_type": "code",
   "execution_count": 16,
   "id": "b9cc9cc4",
   "metadata": {},
   "outputs": [
    {
     "data": {
      "text/html": [
       "<div>\n",
       "<style scoped>\n",
       "    .dataframe tbody tr th:only-of-type {\n",
       "        vertical-align: middle;\n",
       "    }\n",
       "\n",
       "    .dataframe tbody tr th {\n",
       "        vertical-align: top;\n",
       "    }\n",
       "\n",
       "    .dataframe thead th {\n",
       "        text-align: right;\n",
       "    }\n",
       "</style>\n",
       "<table border=\"1\" class=\"dataframe\">\n",
       "  <thead>\n",
       "    <tr style=\"text-align: right;\">\n",
       "      <th></th>\n",
       "      <th>file_name</th>\n",
       "      <th>x1</th>\n",
       "      <th>y1</th>\n",
       "      <th>x2</th>\n",
       "      <th>y2</th>\n",
       "      <th>label</th>\n",
       "      <th>new_name</th>\n",
       "      <th>empty</th>\n",
       "    </tr>\n",
       "  </thead>\n",
       "  <tbody>\n",
       "    <tr>\n",
       "      <th>90</th>\n",
       "      <td>1478732982753103095_jpg.rf.3c4c355e77fb688df76...</td>\n",
       "      <td>0.838942</td>\n",
       "      <td>0.403846</td>\n",
       "      <td>0.997596</td>\n",
       "      <td>0.701923</td>\n",
       "      <td>car</td>\n",
       "      <td>gs://capstone_benchmark/img1.jpg</td>\n",
       "      <td>NaN</td>\n",
       "    </tr>\n",
       "    <tr>\n",
       "      <th>91</th>\n",
       "      <td>1478732982753103095_jpg.rf.3c4c355e77fb688df76...</td>\n",
       "      <td>0.067308</td>\n",
       "      <td>0.423077</td>\n",
       "      <td>0.235577</td>\n",
       "      <td>0.625000</td>\n",
       "      <td>car</td>\n",
       "      <td>gs://capstone_benchmark/img1.jpg</td>\n",
       "      <td>NaN</td>\n",
       "    </tr>\n",
       "  </tbody>\n",
       "</table>\n",
       "</div>"
      ],
      "text/plain": [
       "                                            file_name        x1        y1  \\\n",
       "90  1478732982753103095_jpg.rf.3c4c355e77fb688df76...  0.838942  0.403846   \n",
       "91  1478732982753103095_jpg.rf.3c4c355e77fb688df76...  0.067308  0.423077   \n",
       "\n",
       "          x2        y2 label                          new_name  empty  \n",
       "90  0.997596  0.701923   car  gs://capstone_benchmark/img1.jpg    NaN  \n",
       "91  0.235577  0.625000   car  gs://capstone_benchmark/img1.jpg    NaN  "
      ]
     },
     "execution_count": 16,
     "metadata": {},
     "output_type": "execute_result"
    }
   ],
   "source": [
    "ann_subset.head(2)"
   ]
  },
  {
   "cell_type": "code",
   "execution_count": 11,
   "id": "3d429cc9",
   "metadata": {},
   "outputs": [],
   "source": [
    "# copy files with unique file_name from source folder to name mapping in destination folder\n",
    "if move_images:\n",
    "    for name in ann_subset['file_name'].unique():\n",
    "        shutil.copy(src_path + name, dest_path + name_mapping[name])"
   ]
  },
  {
   "cell_type": "code",
   "execution_count": 12,
   "id": "5eec2aae",
   "metadata": {
    "scrolled": true
   },
   "outputs": [
    {
     "name": "stderr",
     "output_type": "stream",
     "text": [
      "C:\\Users\\19255\\AppData\\Local\\Temp/ipykernel_2884/1532133406.py:2: SettingWithCopyWarning: \n",
      "A value is trying to be set on a copy of a slice from a DataFrame.\n",
      "Try using .loc[row_indexer,col_indexer] = value instead\n",
      "\n",
      "See the caveats in the documentation: https://pandas.pydata.org/pandas-docs/stable/user_guide/indexing.html#returning-a-view-versus-a-copy\n",
      "  ann_subset['new_name'] = ann_subset['file_name'].map(name_mapping)\n",
      "C:\\Users\\19255\\AppData\\Local\\Temp/ipykernel_2884/1532133406.py:3: SettingWithCopyWarning: \n",
      "A value is trying to be set on a copy of a slice from a DataFrame.\n",
      "Try using .loc[row_indexer,col_indexer] = value instead\n",
      "\n",
      "See the caveats in the documentation: https://pandas.pydata.org/pandas-docs/stable/user_guide/indexing.html#returning-a-view-versus-a-copy\n",
      "  ann_subset['new_name'] = gs_filepath + ann_subset['new_name']\n"
     ]
    },
    {
     "data": {
      "text/html": [
       "<div>\n",
       "<style scoped>\n",
       "    .dataframe tbody tr th:only-of-type {\n",
       "        vertical-align: middle;\n",
       "    }\n",
       "\n",
       "    .dataframe tbody tr th {\n",
       "        vertical-align: top;\n",
       "    }\n",
       "\n",
       "    .dataframe thead th {\n",
       "        text-align: right;\n",
       "    }\n",
       "</style>\n",
       "<table border=\"1\" class=\"dataframe\">\n",
       "  <thead>\n",
       "    <tr style=\"text-align: right;\">\n",
       "      <th></th>\n",
       "      <th>file_name</th>\n",
       "      <th>x1</th>\n",
       "      <th>y1</th>\n",
       "      <th>x2</th>\n",
       "      <th>y2</th>\n",
       "      <th>label</th>\n",
       "      <th>new_name</th>\n",
       "    </tr>\n",
       "  </thead>\n",
       "  <tbody>\n",
       "    <tr>\n",
       "      <th>90</th>\n",
       "      <td>1478732982753103095_jpg.rf.3c4c355e77fb688df76...</td>\n",
       "      <td>349</td>\n",
       "      <td>168</td>\n",
       "      <td>415</td>\n",
       "      <td>292</td>\n",
       "      <td>car</td>\n",
       "      <td>gs://capstone_benchmark/img1.jpg</td>\n",
       "    </tr>\n",
       "    <tr>\n",
       "      <th>91</th>\n",
       "      <td>1478732982753103095_jpg.rf.3c4c355e77fb688df76...</td>\n",
       "      <td>28</td>\n",
       "      <td>176</td>\n",
       "      <td>98</td>\n",
       "      <td>260</td>\n",
       "      <td>car</td>\n",
       "      <td>gs://capstone_benchmark/img1.jpg</td>\n",
       "    </tr>\n",
       "    <tr>\n",
       "      <th>92</th>\n",
       "      <td>1478732982753103095_jpg.rf.3c4c355e77fb688df76...</td>\n",
       "      <td>91</td>\n",
       "      <td>180</td>\n",
       "      <td>118</td>\n",
       "      <td>240</td>\n",
       "      <td>car</td>\n",
       "      <td>gs://capstone_benchmark/img1.jpg</td>\n",
       "    </tr>\n",
       "  </tbody>\n",
       "</table>\n",
       "</div>"
      ],
      "text/plain": [
       "                                            file_name   x1   y1   x2   y2  \\\n",
       "90  1478732982753103095_jpg.rf.3c4c355e77fb688df76...  349  168  415  292   \n",
       "91  1478732982753103095_jpg.rf.3c4c355e77fb688df76...   28  176   98  260   \n",
       "92  1478732982753103095_jpg.rf.3c4c355e77fb688df76...   91  180  118  240   \n",
       "\n",
       "   label                          new_name  \n",
       "90   car  gs://capstone_benchmark/img1.jpg  \n",
       "91   car  gs://capstone_benchmark/img1.jpg  \n",
       "92   car  gs://capstone_benchmark/img1.jpg  "
      ]
     },
     "execution_count": 12,
     "metadata": {},
     "output_type": "execute_result"
    }
   ],
   "source": [
    "ann_subset['new_name'] = ann_subset['file_name'].map(name_mapping)\n",
    "ann_subset['new_name'] = gs_filepath + ann_subset['new_name']\n",
    "ann_subset.head(3)"
   ]
  },
  {
   "cell_type": "code",
   "execution_count": 13,
   "id": "9b2e4cd5",
   "metadata": {},
   "outputs": [
    {
     "name": "stderr",
     "output_type": "stream",
     "text": [
      "C:\\Users\\19255\\AppData\\Local\\Temp/ipykernel_2884/2410846686.py:2: DeprecationWarning: The default dtype for empty Series will be 'object' instead of 'float64' in a future version. Specify a dtype explicitly to silence this warning.\n",
      "  ann_subset['empty'] = pd.Series()\n",
      "C:\\Users\\19255\\AppData\\Local\\Temp/ipykernel_2884/2410846686.py:2: SettingWithCopyWarning: \n",
      "A value is trying to be set on a copy of a slice from a DataFrame.\n",
      "Try using .loc[row_indexer,col_indexer] = value instead\n",
      "\n",
      "See the caveats in the documentation: https://pandas.pydata.org/pandas-docs/stable/user_guide/indexing.html#returning-a-view-versus-a-copy\n",
      "  ann_subset['empty'] = pd.Series()\n",
      "C:\\Users\\19255\\AppData\\Local\\Temp/ipykernel_2884/2410846686.py:5: SettingWithCopyWarning: \n",
      "A value is trying to be set on a copy of a slice from a DataFrame.\n",
      "Try using .loc[row_indexer,col_indexer] = value instead\n",
      "\n",
      "See the caveats in the documentation: https://pandas.pydata.org/pandas-docs/stable/user_guide/indexing.html#returning-a-view-versus-a-copy\n",
      "  ann_subset['x1'] = ann_subset['x1'].apply(lambda x: x / img_size)\n",
      "C:\\Users\\19255\\AppData\\Local\\Temp/ipykernel_2884/2410846686.py:6: SettingWithCopyWarning: \n",
      "A value is trying to be set on a copy of a slice from a DataFrame.\n",
      "Try using .loc[row_indexer,col_indexer] = value instead\n",
      "\n",
      "See the caveats in the documentation: https://pandas.pydata.org/pandas-docs/stable/user_guide/indexing.html#returning-a-view-versus-a-copy\n",
      "  ann_subset['y1'] = ann_subset['y1'].apply(lambda x: x / img_size)\n",
      "C:\\Users\\19255\\AppData\\Local\\Temp/ipykernel_2884/2410846686.py:7: SettingWithCopyWarning: \n",
      "A value is trying to be set on a copy of a slice from a DataFrame.\n",
      "Try using .loc[row_indexer,col_indexer] = value instead\n",
      "\n",
      "See the caveats in the documentation: https://pandas.pydata.org/pandas-docs/stable/user_guide/indexing.html#returning-a-view-versus-a-copy\n",
      "  ann_subset['x2'] = ann_subset['x2'].apply(lambda x: x / img_size)\n",
      "C:\\Users\\19255\\AppData\\Local\\Temp/ipykernel_2884/2410846686.py:8: SettingWithCopyWarning: \n",
      "A value is trying to be set on a copy of a slice from a DataFrame.\n",
      "Try using .loc[row_indexer,col_indexer] = value instead\n",
      "\n",
      "See the caveats in the documentation: https://pandas.pydata.org/pandas-docs/stable/user_guide/indexing.html#returning-a-view-versus-a-copy\n",
      "  ann_subset['y2'] = ann_subset['y2'].apply(lambda x: x / img_size)\n"
     ]
    },
    {
     "data": {
      "text/html": [
       "<div>\n",
       "<style scoped>\n",
       "    .dataframe tbody tr th:only-of-type {\n",
       "        vertical-align: middle;\n",
       "    }\n",
       "\n",
       "    .dataframe tbody tr th {\n",
       "        vertical-align: top;\n",
       "    }\n",
       "\n",
       "    .dataframe thead th {\n",
       "        text-align: right;\n",
       "    }\n",
       "</style>\n",
       "<table border=\"1\" class=\"dataframe\">\n",
       "  <thead>\n",
       "    <tr style=\"text-align: right;\">\n",
       "      <th></th>\n",
       "      <th>file_name</th>\n",
       "      <th>x1</th>\n",
       "      <th>y1</th>\n",
       "      <th>x2</th>\n",
       "      <th>y2</th>\n",
       "      <th>label</th>\n",
       "      <th>new_name</th>\n",
       "      <th>empty</th>\n",
       "    </tr>\n",
       "  </thead>\n",
       "  <tbody>\n",
       "    <tr>\n",
       "      <th>90</th>\n",
       "      <td>1478732982753103095_jpg.rf.3c4c355e77fb688df76...</td>\n",
       "      <td>0.838942</td>\n",
       "      <td>0.403846</td>\n",
       "      <td>0.997596</td>\n",
       "      <td>0.701923</td>\n",
       "      <td>car</td>\n",
       "      <td>gs://capstone_benchmark/img1.jpg</td>\n",
       "      <td>NaN</td>\n",
       "    </tr>\n",
       "    <tr>\n",
       "      <th>91</th>\n",
       "      <td>1478732982753103095_jpg.rf.3c4c355e77fb688df76...</td>\n",
       "      <td>0.067308</td>\n",
       "      <td>0.423077</td>\n",
       "      <td>0.235577</td>\n",
       "      <td>0.625000</td>\n",
       "      <td>car</td>\n",
       "      <td>gs://capstone_benchmark/img1.jpg</td>\n",
       "      <td>NaN</td>\n",
       "    </tr>\n",
       "    <tr>\n",
       "      <th>92</th>\n",
       "      <td>1478732982753103095_jpg.rf.3c4c355e77fb688df76...</td>\n",
       "      <td>0.218750</td>\n",
       "      <td>0.432692</td>\n",
       "      <td>0.283654</td>\n",
       "      <td>0.576923</td>\n",
       "      <td>car</td>\n",
       "      <td>gs://capstone_benchmark/img1.jpg</td>\n",
       "      <td>NaN</td>\n",
       "    </tr>\n",
       "    <tr>\n",
       "      <th>93</th>\n",
       "      <td>1478732982753103095_jpg.rf.3c4c355e77fb688df76...</td>\n",
       "      <td>0.228365</td>\n",
       "      <td>0.439904</td>\n",
       "      <td>0.290865</td>\n",
       "      <td>0.588942</td>\n",
       "      <td>car</td>\n",
       "      <td>gs://capstone_benchmark/img1.jpg</td>\n",
       "      <td>NaN</td>\n",
       "    </tr>\n",
       "    <tr>\n",
       "      <th>94</th>\n",
       "      <td>1478732982753103095_jpg.rf.3c4c355e77fb688df76...</td>\n",
       "      <td>0.326923</td>\n",
       "      <td>0.461538</td>\n",
       "      <td>0.382212</td>\n",
       "      <td>0.526442</td>\n",
       "      <td>car</td>\n",
       "      <td>gs://capstone_benchmark/img1.jpg</td>\n",
       "      <td>NaN</td>\n",
       "    </tr>\n",
       "  </tbody>\n",
       "</table>\n",
       "</div>"
      ],
      "text/plain": [
       "                                            file_name        x1        y1  \\\n",
       "90  1478732982753103095_jpg.rf.3c4c355e77fb688df76...  0.838942  0.403846   \n",
       "91  1478732982753103095_jpg.rf.3c4c355e77fb688df76...  0.067308  0.423077   \n",
       "92  1478732982753103095_jpg.rf.3c4c355e77fb688df76...  0.218750  0.432692   \n",
       "93  1478732982753103095_jpg.rf.3c4c355e77fb688df76...  0.228365  0.439904   \n",
       "94  1478732982753103095_jpg.rf.3c4c355e77fb688df76...  0.326923  0.461538   \n",
       "\n",
       "          x2        y2 label                          new_name  empty  \n",
       "90  0.997596  0.701923   car  gs://capstone_benchmark/img1.jpg    NaN  \n",
       "91  0.235577  0.625000   car  gs://capstone_benchmark/img1.jpg    NaN  \n",
       "92  0.283654  0.576923   car  gs://capstone_benchmark/img1.jpg    NaN  \n",
       "93  0.290865  0.588942   car  gs://capstone_benchmark/img1.jpg    NaN  \n",
       "94  0.382212  0.526442   car  gs://capstone_benchmark/img1.jpg    NaN  "
      ]
     },
     "execution_count": 13,
     "metadata": {},
     "output_type": "execute_result"
    }
   ],
   "source": [
    "# append an empty column for padding requested data\n",
    "ann_subset['empty'] = pd.Series()\n",
    "ann_subset['x1'] = ann_subset['x1'].apply(lambda x: x / img_size)\n",
    "ann_subset['y1'] = ann_subset['y1'].apply(lambda x: x / img_size)\n",
    "ann_subset['x2'] = ann_subset['x2'].apply(lambda x: x / img_size)\n",
    "ann_subset['y2'] = ann_subset['y2'].apply(lambda x: x / img_size)\n",
    "ann_subset.head()"
   ]
  },
  {
   "cell_type": "code",
   "execution_count": 14,
   "id": "215071e7",
   "metadata": {},
   "outputs": [],
   "source": [
    "# create final dataframe with columns in requested order\n",
    "final_df = ann_subset[['new_name', 'label', 'x1', 'y1', 'empty', 'empty', 'x2', 'y2', 'empty', 'empty']]\n",
    "\n",
    "# create an _annotations.csv file in the destination folder\n",
    "final_df.to_csv(dest_path + '_annotations.csv', header=False, index=False)"
   ]
  }
 ],
 "metadata": {
  "kernelspec": {
   "display_name": "Python 3 (ipykernel)",
   "language": "python",
   "name": "python3"
  },
  "language_info": {
   "codemirror_mode": {
    "name": "ipython",
    "version": 3
   },
   "file_extension": ".py",
   "mimetype": "text/x-python",
   "name": "python",
   "nbconvert_exporter": "python",
   "pygments_lexer": "ipython3",
   "version": "3.9.7"
  }
 },
 "nbformat": 4,
 "nbformat_minor": 5
}
